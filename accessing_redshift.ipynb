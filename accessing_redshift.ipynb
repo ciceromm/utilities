{
 "cells": [
  {
   "cell_type": "code",
   "execution_count": 1,
   "id": "d6fbc6c5",
   "metadata": {},
   "outputs": [],
   "source": [
    "# How to access a SQL Server from python\n",
    "# Cícero José Matuella Moreira - @ciceromm"
   ]
  },
  {
   "cell_type": "code",
   "execution_count": null,
   "id": "1d04623f",
   "metadata": {},
   "outputs": [],
   "source": [
    "# Installing required libraries\n",
    "# pip install psycopg2"
   ]
  },
  {
   "cell_type": "code",
   "execution_count": null,
   "id": "a343c1b2",
   "metadata": {},
   "outputs": [],
   "source": []
  },
  {
   "cell_type": "code",
   "execution_count": 2,
   "id": "c9c80a38",
   "metadata": {},
   "outputs": [],
   "source": [
    "import pandas as pd\n",
    "import psycopg2\n",
    "import pandas.io.sql as sqlio"
   ]
  },
  {
   "cell_type": "code",
   "execution_count": 4,
   "id": "7bc7c047",
   "metadata": {},
   "outputs": [],
   "source": [
    "# Creating a function called sqlserver\n",
    "def redshift(sql):\n",
    "    conn = psycopg2.connect(dbname = 'db_name',\n",
    "                            user = 'username',\n",
    "                            password = 'password',\n",
    "                            host = 'xxxxxxxxxxxxxxx.us-east-1.redshift.amazonaws.com',\n",
    "                            port = '1234')\n",
    "    data = sqlio.read_sql_query(sql, conn)\n",
    "    conn.close()\n",
    "    return data"
   ]
  },
  {
   "cell_type": "code",
   "execution_count": null,
   "id": "03c6d162",
   "metadata": {},
   "outputs": [],
   "source": [
    "df1 = redshift(\"\"\"select * from table.schema limit 100\"\"\")"
   ]
  },
  {
   "cell_type": "code",
   "execution_count": null,
   "id": "81de2c66",
   "metadata": {},
   "outputs": [],
   "source": [
    "# Deleting tables:\n",
    "redshift(\"\"\"delete from table.schema where datastamp < '1999-01-01'\"\"\")"
   ]
  }
 ],
 "metadata": {
  "kernelspec": {
   "display_name": "Python 3 (ipykernel)",
   "language": "python",
   "name": "python3"
  },
  "language_info": {
   "codemirror_mode": {
    "name": "ipython",
    "version": 3
   },
   "file_extension": ".py",
   "mimetype": "text/x-python",
   "name": "python",
   "nbconvert_exporter": "python",
   "pygments_lexer": "ipython3",
   "version": "3.9.7"
  }
 },
 "nbformat": 4,
 "nbformat_minor": 5
}

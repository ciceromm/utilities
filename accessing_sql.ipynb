{
 "cells": [
  {
   "cell_type": "code",
   "execution_count": 1,
   "id": "1e2d89f4",
   "metadata": {},
   "outputs": [],
   "source": [
    "# How to access a SQL Server from python\n",
    "# Cícero José Matuella Moreira - @ciceromm"
   ]
  },
  {
   "cell_type": "code",
   "execution_count": null,
   "id": "64065e03",
   "metadata": {},
   "outputs": [],
   "source": [
    "# Installing required libraries\n",
    "# pip install pyodbc"
   ]
  },
  {
   "cell_type": "code",
   "execution_count": null,
   "id": "16bf479e",
   "metadata": {},
   "outputs": [],
   "source": [
    "# Install required drivers\n",
    "# The newest version is the version 18\n",
    "# You can find the drivers in: \n",
    "# https://learn.microsoft.com/en-us/sql/connect/odbc/download-odbc-driver-for-sql-server?view=sql-server-ver16\n",
    "#\n",
    "# I use version 17 (more stable) for local scripts and 13 for cloud projects using (that is usually a linux based system)\n",
    "# "
   ]
  },
  {
   "cell_type": "code",
   "execution_count": 2,
   "id": "89aabe5d",
   "metadata": {},
   "outputs": [],
   "source": [
    "import pandas as pd\n",
    "import pyodbc"
   ]
  },
  {
   "cell_type": "code",
   "execution_count": 3,
   "id": "6cb53359",
   "metadata": {},
   "outputs": [
    {
     "ename": "OperationalError",
     "evalue": "('08001', '[08001] [Microsoft][ODBC Driver 17 for SQL Server]Provedor de Pipes Nomeados: Não foi possível abrir uma conexão com o SQL Server [53].  (53) (SQLDriverConnect); [08001] [Microsoft][ODBC Driver 17 for SQL Server]O tempo limite do logon expirou (0); [08001] [Microsoft][ODBC Driver 17 for SQL Server]Erro relatado pela rede ou específico à instância ao estabelecer conexão com o SQL Server. O servidor não foi encontrado ou não está acessível. Verifique se o nome da instância está correto e se o SQL Server está configurado para permitir conexões remotas. Para obter mais informações, consulte os Manuais Online do SQL Server. (53)')",
     "output_type": "error",
     "traceback": [
      "\u001b[1;31m---------------------------------------------------------------------------\u001b[0m",
      "\u001b[1;31mOperationalError\u001b[0m                          Traceback (most recent call last)",
      "\u001b[1;32m~\\AppData\\Local\\Temp/ipykernel_26432/2434713111.py\u001b[0m in \u001b[0;36m<module>\u001b[1;34m\u001b[0m\n\u001b[0;32m      6\u001b[0m \u001b[0mserver_siv\u001b[0m \u001b[1;33m=\u001b[0m \u001b[1;34m'ip_address'\u001b[0m\u001b[1;33m\u001b[0m\u001b[1;33m\u001b[0m\u001b[0m\n\u001b[0;32m      7\u001b[0m \u001b[1;33m\u001b[0m\u001b[0m\n\u001b[1;32m----> 8\u001b[1;33m conn = pyodbc.connect(driver=driver, server=server_siv, database=db,\n\u001b[0m\u001b[0;32m      9\u001b[0m                         user=user, password=password, MARS_Connection='Yes')\n",
      "\u001b[1;31mOperationalError\u001b[0m: ('08001', '[08001] [Microsoft][ODBC Driver 17 for SQL Server]Provedor de Pipes Nomeados: Não foi possível abrir uma conexão com o SQL Server [53].  (53) (SQLDriverConnect); [08001] [Microsoft][ODBC Driver 17 for SQL Server]O tempo limite do logon expirou (0); [08001] [Microsoft][ODBC Driver 17 for SQL Server]Erro relatado pela rede ou específico à instância ao estabelecer conexão com o SQL Server. O servidor não foi encontrado ou não está acessível. Verifique se o nome da instância está correto e se o SQL Server está configurado para permitir conexões remotas. Para obter mais informações, consulte os Manuais Online do SQL Server. (53)')"
     ]
    }
   ],
   "source": [
    "driver = '{ODBC Driver 17 for SQL Server}' #for local projects\n",
    "#driver = '{ODBC Driver 13 for SQL Server}' #for cloud projects\n",
    "db = 'db_name'\n",
    "user = 'username'\n",
    "password = 'password'\n",
    "server_siv = 'ip_address'\n",
    "# These information above should be put in a ini file or json file to not expose sensitive information\n",
    "\n",
    "conn = pyodbc.connect(driver=driver, server=server_siv, database=db,\n",
    "                        user=user, password=password, MARS_Connection='Yes')"
   ]
  },
  {
   "cell_type": "code",
   "execution_count": 4,
   "id": "a3c47071",
   "metadata": {},
   "outputs": [],
   "source": [
    "# Creating a function called sqlserver\n",
    "def sqlserver(query):\n",
    "    return pd.read_sql(query, conn)"
   ]
  },
  {
   "cell_type": "code",
   "execution_count": null,
   "id": "92c183ab",
   "metadata": {},
   "outputs": [],
   "source": [
    "df1 = sqlserver(\"\"\"SELECT TOP(100) * FROM TABLE\"\"\")"
   ]
  }
 ],
 "metadata": {
  "kernelspec": {
   "display_name": "Python 3 (ipykernel)",
   "language": "python",
   "name": "python3"
  },
  "language_info": {
   "codemirror_mode": {
    "name": "ipython",
    "version": 3
   },
   "file_extension": ".py",
   "mimetype": "text/x-python",
   "name": "python",
   "nbconvert_exporter": "python",
   "pygments_lexer": "ipython3",
   "version": "3.9.7"
  }
 },
 "nbformat": 4,
 "nbformat_minor": 5
}
